{
  "cells": [
    {
      "cell_type": "code",
      "execution_count": null,
      "metadata": {
        "id": "GJm5-mLQOoQ1"
      },
      "outputs": [],
      "source": [
        "import tensorflow as tf\n",
        "from tensorflow.keras import layers, metrics, losses\n",
        "from tensorflow.keras.models import Model \n",
        "import numpy as np"
      ]
    },
    {
      "cell_type": "code",
      "execution_count": null,
      "metadata": {
        "id": "qlR8jflvOoQ3"
      },
      "outputs": [],
      "source": [
        "class CustomLayer(Model):\n",
        "    def __init__(self,input_shape, filters, n_layers, is_down = True):\n",
        "        super(CustomLayer, self).__init__(name='CustomLayer')\n",
        "        self.clayers = []\n",
        "        filter1, filter2 = filters \n",
        "        \n",
        "        self.input_layer = layers.InputLayer(input_shape=(*input_shape, filter1))\n",
        "\n",
        "        for _ in range(n_layers):\n",
        "            self.clayers.append(layers.Conv3D(filter1, 5, strides=1, padding='same'))\n",
        "\n",
        "        if is_down:\n",
        "            self.out = layers.Conv3D(filter2, 2, strides=2, padding='valid')\n",
        "        else:\n",
        "            self.out = layers.Conv3DTranspose(filter2, 2, strides=2, padding='valid')\n",
        "        \n",
        "        self.prelu = layers.PReLU() \n",
        "        \n",
        "    def call(self, input_tensor1, input_tensor2=None, training=False):\n",
        "        if input_tensor2 is not None:\n",
        "            input_tensor = layers.Concatenate(axis=4)([input_tensor1, input_tensor2])\n",
        "        else:\n",
        "            input_tensor = input_tensor1\n",
        "        input_tensor = self.input_layer(input_tensor)\n",
        "        x = input_tensor\n",
        "        for layer in self.clayers:\n",
        "            x = layer(x)\n",
        "        x += input_tensor1\n",
        "        out = self.out(x)\n",
        "        return x, self.prelu(out)\n"
      ]
    },
    {
      "cell_type": "code",
      "execution_count": null,
      "metadata": {
        "id": "eii9uvxfOoQ5"
      },
      "outputs": [],
      "source": [
        "class VNet(Model):\n",
        "    def __init__(self, input_shape, batch_size):\n",
        "        super(VNet, self).__init__(name='VNet')\n",
        "        self.batch_size = batch_size\n",
        "        self.input_layer = layers.InputLayer(input_shape=(input_shape), batch_size=self.batch_size)\n",
        "        self.layer1 = CustomLayer((128,128,64), (1,16), 1)\n",
        "        self.layer2 = CustomLayer((64,64,32), (16,32), 2)\n",
        "        self.layer3 = CustomLayer((32,32,16), (32,64), 3)\n",
        "        self.layer4 = CustomLayer((16,16,8), (64,128), 3)\n",
        "        self.layer5 = CustomLayer((8,8,4), (128,256), 3, False)\n",
        "        self.layer6 = CustomLayer((16,16,8), (256,128), 3, False)\n",
        "        self.layer7 = CustomLayer((32,32,16), (128,64), 3, False)\n",
        "        self.layer8 = CustomLayer((64,64,32), (64,32), 2, False)\n",
        "        self.layer9 = layers.Conv3D(32, 5, strides=1, padding='same')\n",
        "        self.layer10 = layers.Conv3D(1, 1, padding='same')\n",
        "\n",
        "\n",
        "\n",
        "    def call(self, input_tensor, training = False):\n",
        "        input_tensor = self.input_layer(input_tensor)\n",
        "        o1, l1 = self.layer1(input_tensor)\n",
        "        o2, l2 = self.layer2(l1)\n",
        "        o3, l3 = self.layer3(l2)\n",
        "        o4, l4 = self.layer4(l3)\n",
        "        _, l5 = self.layer5(l4)\n",
        "        _, l6 = self.layer6(l5, o4)\n",
        "        _, l7 = self.layer7(l6, o3)\n",
        "        _, l8 = self.layer8(l7, o2)\n",
        "        l8_ = layers.Concatenate(axis=4)([l8, o1])\n",
        "        l9 = self.layer9(l8_)\n",
        "        l9 += l8\n",
        "        l10 = self.layer10(l9)\n",
        "        return tf.nn.softmax(l10)"
      ]
    },
    {
      "cell_type": "code",
      "execution_count": null,
      "metadata": {
        "colab": {
          "base_uri": "https://localhost:8080/"
        },
        "id": "WRjnFghoOoQ7",
        "outputId": "be2a97a7-e8bb-4eb5-bef0-2bb97718236e"
      },
      "outputs": [],
      "source": [
        "x = np.random.rand(1,128,128,64,1)\n",
        "x = tf.constant(x)\n",
        "mod = VNet(input_shape=(128,128,64,1,), batch_size=1)\n",
        "mod.compile()\n",
        "\n",
        "p = mod.predict(x)"
      ]
    }
  ],
  "metadata": {
    "accelerator": "GPU",
    "colab": {
      "provenance": []
    },
    "gpuClass": "standard",
    "kernelspec": {
      "display_name": "Python 3.9.12 ('isic')",
      "language": "python",
      "name": "python3"
    },
    "language_info": {
      "codemirror_mode": {
        "name": "ipython",
        "version": 3
      },
      "file_extension": ".py",
      "mimetype": "text/x-python",
      "name": "python",
      "nbconvert_exporter": "python",
      "pygments_lexer": "ipython3",
      "version": "3.9.12"
    },
    "orig_nbformat": 4,
    "vscode": {
      "interpreter": {
        "hash": "2ed40115b9311c990e0db03d45bc5fce15d49910c366a778b1744ea7c53758dc"
      }
    }
  },
  "nbformat": 4,
  "nbformat_minor": 0
}
