{
  "cells": [
    {
      "cell_type": "code",
      "execution_count": null,
      "metadata": {
        "colab": {
          "base_uri": "https://localhost:8080/"
        },
        "id": "KM0cyNW2a0VO",
        "outputId": "c8014ecb-c97a-4229-e56b-397a8f3dcd7d"
      },
      "outputs": [
        {
          "output_type": "stream",
          "name": "stdout",
          "text": [
            "Mounted at /content/drive\n"
          ]
        }
      ],
      "source": [
        "from google.colab import drive\n",
        "drive.mount('/content/drive')"
      ]
    },
    {
      "cell_type": "code",
      "execution_count": null,
      "metadata": {
        "colab": {
          "base_uri": "https://localhost:8080/"
        },
        "id": "u13Y0imibtHZ",
        "outputId": "2b3d5f37-5279-45e6-c590-2b1679fdc043"
      },
      "outputs": [
        {
          "output_type": "stream",
          "name": "stdout",
          "text": [
            "Looking in indexes: https://pypi.org/simple, https://us-python.pkg.dev/colab-wheels/public/simple/\n",
            "Collecting SimpleITK\n",
            "  Downloading SimpleITK-2.2.0-cp38-cp38-manylinux_2_17_x86_64.manylinux2014_x86_64.whl (52.8 MB)\n",
            "\u001b[K     |████████████████████████████████| 52.8 MB 267 kB/s \n",
            "\u001b[?25hInstalling collected packages: SimpleITK\n",
            "Successfully installed SimpleITK-2.2.0\n"
          ]
        }
      ],
      "source": [
        "!pip install SimpleITK"
      ]
    },
    {
      "cell_type": "code",
      "execution_count": null,
      "metadata": {
        "id": "GJm5-mLQOoQ1"
      },
      "outputs": [],
      "source": [
        "import os\n",
        "import tensorflow as tf\n",
        "from tensorflow.keras import layers, metrics, losses\n",
        "from tensorflow.keras.models import Model \n",
        "from tensorflow.keras.optimizers import Adam\n",
        "from functools import partial\n",
        "import keras.backend as K\n",
        "import matplotlib.pyplot as plt\n",
        "from matplotlib import rc\n",
        "from matplotlib.animation import FuncAnimation\n",
        "import numpy as np\n",
        "import SimpleITK as sitk\n",
        "import pandas as pd"
      ]
    },
    {
      "cell_type": "code",
      "execution_count": null,
      "metadata": {
        "id": "APRJm9_jUmRL"
      },
      "outputs": [],
      "source": [
        "rc('animation', html='jshtml')"
      ]
    },
    {
      "cell_type": "markdown",
      "metadata": {
        "id": "fijhCseWoQYk"
      },
      "source": [
        "# Global Variables\n"
      ]
    },
    {
      "cell_type": "code",
      "execution_count": null,
      "metadata": {
        "id": "S5HTILLWbS_y"
      },
      "outputs": [],
      "source": [
        "os.chdir('/content/drive/MyDrive/nnfl')"
      ]
    },
    {
      "cell_type": "code",
      "execution_count": null,
      "metadata": {
        "id": "o43SaxYCl-2P"
      },
      "outputs": [],
      "source": [
        "BATCH_SIZE = 2\n",
        "EPOCHS = 5"
      ]
    },
    {
      "cell_type": "code",
      "execution_count": null,
      "metadata": {
        "id": "tZA-C4GprOR2"
      },
      "outputs": [],
      "source": [
        "params = dict()\n",
        "params['dstRes'] = np.asarray([1,1,1.5],dtype=float)\n",
        "params['VolSize'] = np.asarray([128,128,64],dtype=int)\n",
        "params['normDir'] = False"
      ]
    },
    {
      "cell_type": "markdown",
      "metadata": {
        "id": "RaD1o0ucUItZ"
      },
      "source": [
        "# Metrics:"
      ]
    },
    {
      "cell_type": "code",
      "execution_count": null,
      "metadata": {
        "id": "wt56wlQQrRcW"
      },
      "outputs": [],
      "source": [
        "class JaccardIndex(metrics.Metric):\n",
        "    def __init__(self, name='jaccard_index',threshold=0.5,**kwargs) -> None:\n",
        "      super(JaccardIndex, self).__init__(name=name,**kwargs)\n",
        "      self.ji = self.add_weight(name='JI', initializer='zeros',dtype='float64')\n",
        "      self.count = self.add_weight(name='count', initializer='zeros',dtype='float64')\n",
        "      self.threshold = threshold\n",
        "        \n",
        "\n",
        "    def update_state(self,y_true, y_pred, sample_weight=None):\n",
        "      conf_mat = get_confusion_matrix(y_true,y_pred,self.threshold)\n",
        "      self.ji.assign(self.count*self.ji)\n",
        "      self.ji.assign_add(get_jaccard_index(conf_mat))\n",
        "      self.count.assign_add(tf.constant(1.,dtype=tf.float64))\n",
        "      self.ji.assign(self.ji/self.count)\n",
        "\n",
        "    def result(self):        \n",
        "        return self.ji"
      ]
    },
    {
      "cell_type": "code",
      "execution_count": null,
      "metadata": {
        "id": "1yYh9PS7rU_D"
      },
      "outputs": [],
      "source": [
        "class DiceIndex(metrics.Metric):\n",
        "    def __init__(self, name='dice_index',threshold=0.5,**kwargs) -> None:\n",
        "      super(DiceIndex, self).__init__(name=name, **kwargs)\n",
        "      self.ji = self.add_weight(name='DI', initializer='zeros',dtype='float64')\n",
        "      self.count = self.add_weight(name='count', initializer='zeros',dtype='float64')\n",
        "      self.threshold = threshold\n",
        "    \n",
        "    def update_state(self,y_true, y_pred, sample_weight=None):\n",
        "      conf_mat = get_confusion_matrix(y_true,y_pred,self.threshold)\n",
        "      self.ji.assign(self.count*self.ji)\n",
        "      self.ji.assign_add(get_dice_coefficient(conf_mat))\n",
        "      self.count.assign_add(tf.constant(1.,dtype=tf.float64))\n",
        "      self.ji.assign(self.ji/self.count)\n",
        "        \n",
        "\n",
        "    def result(self):\n",
        "        return self.ji \n"
      ]
    },
    {
      "cell_type": "code",
      "execution_count": null,
      "metadata": {
        "id": "kZwwmknnrWlA"
      },
      "outputs": [],
      "source": [
        "class Sensitvity(tf.keras.metrics.Metric):\n",
        "    def __init__(self, name='sensitivity',threshold=0.5,**kwargs) -> None:\n",
        "      super(Sensitvity, self).__init__(name=name, **kwargs)\n",
        "      self.ji = self.add_weight(name='SN', initializer='zeros',dtype='float64')\n",
        "      self.count = self.add_weight(name='count', initializer='zeros',dtype='float64')\n",
        "      self.threshold = threshold\n",
        "\n",
        "    def update_state(self,y_true, y_pred, sample_weight=None):\n",
        "      conf_mat = get_confusion_matrix(y_true,y_pred,self.threshold)\n",
        "      self.ji.assign(self.count*self.ji)\n",
        "      self.ji.assign_add(get_sensitivity(conf_mat))\n",
        "      self.count.assign_add(tf.constant(1.,dtype=tf.float64))\n",
        "      self.ji.assign(self.ji/self.count)\n",
        "        \n",
        "\n",
        "    def result(self):\n",
        "        return self.ji "
      ]
    },
    {
      "cell_type": "code",
      "execution_count": null,
      "metadata": {
        "id": "Gi3uxw0yrYrJ"
      },
      "outputs": [],
      "source": [
        "class Specificity(tf.keras.metrics.Metric):\n",
        "    def __init__(self, name='specificity',threshold=0.5,**kwargs) -> None:\n",
        "      super(Specificity, self).__init__(name=name, **kwargs)\n",
        "      self.ji = self.add_weight(name='SP', initializer='zeros',dtype='float64')\n",
        "      self.count = self.add_weight(name='count', initializer='zeros',dtype='float64')\n",
        "      self.threshold = threshold\n",
        "        \n",
        "    def update_state(self,y_true, y_pred, sample_weight=None):\n",
        "      conf_mat = get_confusion_matrix(y_true,y_pred,self.threshold)\n",
        "      self.ji.assign(self.count*self.ji)\n",
        "      self.ji.assign_add(get_specificity(conf_mat))\n",
        "      self.count.assign_add(tf.constant(1.,dtype=tf.float64))\n",
        "      self.ji.assign(self.ji/self.count)\n",
        "        \n",
        "    def result(self):\n",
        "        return self.ji"
      ]
    },
    {
      "cell_type": "code",
      "execution_count": null,
      "metadata": {
        "id": "WeCZdzIsraQ0"
      },
      "outputs": [],
      "source": [
        "class Accuracy(tf.keras.metrics.Metric):\n",
        "    def __init__(self, name='Accuracy',threshold=0.5,**kwargs) -> None:\n",
        "      super(Accuracy, self).__init__(name=name, **kwargs)\n",
        "      self.ji = self.add_weight(name='AC', initializer='zeros',dtype='float64')\n",
        "      self.count = self.add_weight(name='count', initializer='zeros',dtype='float64')\n",
        "      self.threshold = threshold\n",
        "\n",
        "    def update_state(self,y_true, y_pred, sample_weight=None):\n",
        "      conf_mat = get_confusion_matrix(y_true,y_pred,self.threshold)\n",
        "      self.ji.assign(self.count*self.ji)\n",
        "      self.ji.assign_add(get_accuracy(conf_mat))\n",
        "      self.count.assign_add(tf.constant(1.,dtype=tf.float64))\n",
        "      self.ji.assign(self.ji/self.count)\n",
        "\n",
        "    def result(self):\n",
        "        return self.ji "
      ]
    },
    {
      "cell_type": "code",
      "execution_count": null,
      "metadata": {
        "id": "Xw9QrXh0rbyl"
      },
      "outputs": [],
      "source": [
        "def get_confusion_matrix(mask, prediction,threshold = None): \n",
        "    # y_pred,_ = tf.split(y_pred,num_or_size_splits=2, axis=4)\n",
        "    assert(threshold)\n",
        "    prediction = convert_to_ones_and_zeros(prediction,threshold)\n",
        "    mask = convert_to_ones_and_zeros(mask)\n",
        "    prediction = tf.reshape(prediction,[-1])\n",
        "    mask = tf.reshape(mask,[-1])\n",
        "    conf_mat = tf.math.confusion_matrix(mask,prediction)\n",
        "    return conf_mat"
      ]
    },
    {
      "cell_type": "code",
      "execution_count": null,
      "metadata": {
        "id": "KDzlex6crdE-"
      },
      "outputs": [],
      "source": [
        "def convert_to_ones_and_zeros(image, threshold = None):\n",
        "    if not tf.is_tensor(image): \n",
        "        image = tf.convert_to_tensor(image)\n",
        "    if threshold:\n",
        "        image = image > threshold\n",
        "        return image\n",
        "    image = image == tf.reduce_max(image)\n",
        "    return image"
      ]
    },
    {
      "cell_type": "code",
      "execution_count": null,
      "metadata": {
        "id": "GHSVAi_0UIRa"
      },
      "outputs": [],
      "source": [
        "def get_dice_coefficient(confusion_matrix: np.ndarray):\n",
        "    TP,FP,TN,FN = get_tuple(confusion_matrix)\n",
        "    return 2*TP / (2*TP + FN + FP)\n",
        "\n",
        "def get_jaccard_index(confusion_matrix: np.ndarray):\n",
        "    TP,FP,TN,FN = get_tuple(confusion_matrix)\n",
        "    return TP / (TP + FN + FP)\n",
        "\n",
        "def get_sensitivity(confusion_matrix: np.ndarray):\n",
        "    TP,FP,TN,FN = get_tuple(confusion_matrix)\n",
        "    return TP / (TP + FN)\n",
        "\n",
        "def get_specificity(confusion_matrix: np.ndarray):\n",
        "    TP,FP,TN,FN = get_tuple(confusion_matrix)\n",
        "    return TN / (TN + FP)\n",
        "\n",
        "def get_accuracy(confusion_matrix: np.ndarray):\n",
        "    TP,FP,TN,FN = get_tuple(confusion_matrix)\n",
        "    return (TP + TN) / tf.reduce_sum(confusion_matrix)\n",
        "\n",
        "def get_tuple(confusion_matrix):\n",
        "    '''\n",
        "        return: TP, FP, TN, FN \n",
        "    '''\n",
        "    return confusion_matrix[1][1] ,confusion_matrix[0][1], confusion_matrix[0][0], confusion_matrix[1][0]\n"
      ]
    },
    {
      "cell_type": "markdown",
      "metadata": {
        "id": "NBFRt8HeUO-t"
      },
      "source": [
        "# Loss:"
      ]
    },
    {
      "cell_type": "code",
      "execution_count": null,
      "metadata": {
        "id": "4hflDr2JHGA3"
      },
      "outputs": [],
      "source": [
        "class DiceLoss(losses.Loss):\n",
        "  def __init__(self):\n",
        "    super().__init__()\n",
        "  def call(self, y_true, y_pred):\n",
        "    t2 = tf.reduce_sum(tf.square(y_true))\n",
        "    p2 = tf.reduce_sum(tf.square(y_pred))\n",
        "    tp = tf.reduce_sum(tf.math.multiply(y_true, y_pred))\n",
        "    return tf.constant(1.0) - ((tf.constant(2.0)*tp + tf.constant(1.0)) / (t2 + p2 + tf.constant(1.0)))\n"
      ]
    },
    {
      "cell_type": "code",
      "source": [
        "class JaccardLoss(losses.Loss):\n",
        "  def __init__(self):\n",
        "    super().__init__()\n",
        "  def call(self, y_true, y_pred):\n",
        "    t2 = tf.reduce_sum(tf.square(y_true))\n",
        "    p2 = tf.reduce_sum(tf.square(y_pred))\n",
        "    tp = tf.reduce_sum(tf.math.multiply(y_true, y_pred))\n",
        "    return tf.constant(1.0) - (tp / (t2 + p2 - tp))"
      ],
      "metadata": {
        "id": "4He2DjSTDKc1"
      },
      "execution_count": null,
      "outputs": []
    },
    {
      "cell_type": "code",
      "source": [
        "class L1LaplacianLoss(losses.Loss):\n",
        "  def __init__(self):\n",
        "    super().__init__()\n",
        "  def call(self, y_true, y_pred):\n",
        "    laplace_kernel = tf.constant([[0., 1., 0.], [1., -4., 1.], [0., 1., 0.]], dtype=tf.float32)\n",
        "    laplace_kernel = tf.reshape(laplace_kernel, (3,3, 1, 1))\n",
        "    def convert_laplacian(x):\n",
        "      img = []\n",
        "      for d in range(x.shape[2]):\n",
        "        temp = x[:,:,d]\n",
        "        temp = tf.reshape(temp, (1,temp.shape[0], temp.shape[1],1))\n",
        "        temp = tf.nn.conv2d(temp, laplace_kernel, strides=[1, 1, 1, 1], padding='SAME')\n",
        "        temp = tf.reshape(temp, (temp.shape[1], temp.shape[2]))\n",
        "        img.append(temp)\n",
        "      return tf.stack(img, axis = 2)\n",
        "    \n",
        "    y_true = tf.map_fn(convert_laplacian, y_true)\n",
        "    y_pred = tf.map_fn(convert_laplacian, y_pred)\n",
        "    return tf.reduce_sum(tf.math.abs(y_true-y_pred))"
      ],
      "metadata": {
        "id": "SNbg8U74PDlm"
      },
      "execution_count": null,
      "outputs": []
    },
    {
      "cell_type": "code",
      "source": [
        "class L1SobelLoss(losses.Loss):\n",
        "  def __init__(self):\n",
        "    super().__init__()\n",
        "  def call(self, y_true, y_pred):\n",
        "    def convert_sobel(x):\n",
        "      img = []\n",
        "      for d in range(x.shape[2]):\n",
        "        temp = x[:,:,d]\n",
        "        temp = tf.reshape(temp, (1,*temp.shape))\n",
        "        temp = tf.image.sobel_edges(temp)\n",
        "        img.append(temp)\n",
        "      return tf.stack(img, axis = 3)\n",
        "    \n",
        "    y_true = tf.map_fn(convert_sobel, y_true)\n",
        "    y_pred = tf.map_fn(convert_sobel, y_pred)\n",
        "    return tf.reduce_sum(tf.math.abs(y_true-y_pred))"
      ],
      "metadata": {
        "id": "Zkht_LUgpMeG"
      },
      "execution_count": null,
      "outputs": []
    },
    {
      "cell_type": "markdown",
      "metadata": {
        "id": "LUGffvF0UShc"
      },
      "source": [
        "# Model:"
      ]
    },
    {
      "cell_type": "code",
      "execution_count": null,
      "metadata": {
        "id": "eii9uvxfOoQ5"
      },
      "outputs": [],
      "source": [
        "class VNet(Model):\n",
        "  def __init__(self, input_shape, batch_size):\n",
        "    super(VNet, self).__init__(name='VNet')\n",
        "    self.batch_size = batch_size\n",
        "    self.input_layer = layers.InputLayer(input_shape=(input_shape), batch_size=self.batch_size)\n",
        "    \n",
        "    self.l1_c1 = layers.Conv3D(16, 5, strides=1,padding='same', activation=layers.PReLU(shared_axes=[1,2,3]))\n",
        "    self.l1_o = layers.Conv3D(32, 2, strides=2, activation=layers.PReLU(shared_axes=[1,2,3]))\n",
        "    # self.bn1 = layers.BatchNormalization()\n",
        "    \n",
        "    self.l2_c1 = layers.Conv3D(32, 5, strides=1,padding='same', activation=layers.PReLU(shared_axes=[1,2,3]))\n",
        "    self.l2_c2 = layers.Conv3D(32, 5, strides=1,padding='same', activation=layers.PReLU(shared_axes=[1,2,3]))\n",
        "    self.l2_o = layers.Conv3D(64, 2, strides=2, activation=layers.PReLU(shared_axes=[1,2,3]))\n",
        "    # self.bn2 = layers.BatchNormalization()\n",
        "\n",
        "    self.l3_c1 = layers.Conv3D(64, 5, strides=1,padding='same', activation=layers.PReLU(shared_axes=[1,2,3]))\n",
        "    self.l3_c2 = layers.Conv3D(64, 5, strides=1,padding='same', activation=layers.PReLU(shared_axes=[1,2,3]))\n",
        "    self.l3_c3 = layers.Conv3D(64, 5, strides=1,padding='same', activation=layers.PReLU(shared_axes=[1,2,3]))\n",
        "    self.l3_o = layers.Conv3D(128, 2, strides=2, activation=layers.PReLU(shared_axes=[1,2,3]))\n",
        "    # self.bn3 = layers.BatchNormalization()\n",
        "\n",
        "    self.l4_c1 = layers.Conv3D(128, 5, strides=1,padding='same', activation=layers.PReLU(shared_axes=[1,2,3]))\n",
        "    self.l4_c2 = layers.Conv3D(128, 5, strides=1,padding='same', activation=layers.PReLU(shared_axes=[1,2,3]))\n",
        "    self.l4_c3 = layers.Conv3D(128, 5, strides=1,padding='same', activation=layers.PReLU(shared_axes=[1,2,3]))\n",
        "    self.l4_o = layers.Conv3D(256, 2, strides=2)\n",
        "    # self.bn4 = layers.BatchNormalization()\n",
        "\n",
        "    self.l5_c1 = layers.Conv3D(256, 5, strides=1,padding='same', activation=layers.PReLU(shared_axes=[1,2,3]))\n",
        "    self.l5_c2 = layers.Conv3D(256, 5, strides=1,padding='same', activation=layers.PReLU(shared_axes=[1,2,3]))\n",
        "    self.l5_c3 = layers.Conv3D(256, 5, strides=1,padding='same', activation=layers.PReLU(shared_axes=[1,2,3]))\n",
        "    self.l5_o = layers.Conv3DTranspose(256, 2, strides=2, activation=layers.PReLU(shared_axes=[1,2,3]))\n",
        "    # self.bn5 = layers.BatchNormalization()\n",
        "\n",
        "    self.l6_c1 = layers.Conv3D(256, 5, strides=1,padding='same', activation=layers.PReLU(shared_axes=[1,2,3]))\n",
        "    self.l6_c2 = layers.Conv3D(256, 5, strides=1,padding='same', activation=layers.PReLU(shared_axes=[1,2,3]))\n",
        "    self.l6_c3 = layers.Conv3D(256, 5, strides=1,padding='same', activation=layers.PReLU(shared_axes=[1,2,3]))\n",
        "    self.l6_o = layers.Conv3DTranspose(128, 2, strides=2, activation=layers.PReLU(shared_axes=[1,2,3]))\n",
        "    # self.bn6 = layers.BatchNormalization()\n",
        "\n",
        "    self.l7_c1 = layers.Conv3D(128, 5, strides=1,padding='same', activation=layers.PReLU(shared_axes=[1,2,3]))\n",
        "    self.l7_c2 = layers.Conv3D(128, 5, strides=1,padding='same', activation=layers.PReLU(shared_axes=[1,2,3]))\n",
        "    self.l7_c3 = layers.Conv3D(128, 5, strides=1,padding='same', activation=layers.PReLU(shared_axes=[1,2,3]))\n",
        "    self.l7_o = layers.Conv3DTranspose(64, 2, strides=2, activation=layers.PReLU(shared_axes=[1,2,3]))\n",
        "    # self.bn7 = layers.BatchNormalization()\n",
        "\n",
        "    self.l8_c1 = layers.Conv3D(64, 5, strides=1,padding='same', activation=layers.PReLU(shared_axes=[1,2,3]))\n",
        "    self.l8_c2 = layers.Conv3D(64, 5, strides=1,padding='same', activation=layers.PReLU(shared_axes=[1,2,3]))\n",
        "    self.l8_o = layers.Conv3DTranspose(32, 2, strides=2, activation=layers.PReLU(shared_axes=[1,2,3]))\n",
        "    # self.bn8 = layers.BatchNormalization()\n",
        "\n",
        "    self.l9_c1 = layers.Conv3D(32, 5, strides=1,padding='same', activation=layers.PReLU(shared_axes=[1,2,3]))\n",
        "    self.l9_o = layers.Conv3D(2, 1, strides=1, padding='same', activation=layers.PReLU(shared_axes=[1,2,3]))\n",
        "    self.l10 = layers.Conv3D(1, 1, strides=1, padding='same', activation='sigmoid')\n",
        "      \n",
        "        # self.l10 = layers.Softmax(axis=4)\n",
        "  \n",
        "  def call(self, input_tensor, training = False):\n",
        "\n",
        "    input_tensor = self.input_layer(input_tensor)\n",
        "    l1_c1 = self.l1_c1(input_tensor)\n",
        "    l1_c1 = layers.Add()([l1_c1, input_tensor])\n",
        "    l1_o = self.l1_o(l1_c1)\n",
        "    # l1_o = self.bn1(l1_o)\n",
        "\n",
        "    l2_c1 = self.l2_c1(l1_o)\n",
        "    l2_c2 = self.l2_c2(l2_c1)\n",
        "    l2_c2 = layers.Add()([l2_c2, l1_o])\n",
        "    l2_o = self.l2_o(l2_c2)\n",
        "    # l2_o = self.bn2(l2_o)\n",
        "\n",
        "    l3_c1 = self.l3_c1(l2_o)\n",
        "    l3_c2 = self.l3_c2(l3_c1)\n",
        "    l3_c3 = self.l3_c3(l3_c2)\n",
        "    l3_c3 = layers.Add()([l3_c3, l2_o])\n",
        "    l3_o = self.l3_o(l3_c3)\n",
        "    # l3_o = self.bn3(l3_o)\n",
        "\n",
        "    l4_c1 = self.l4_c1(l3_o)\n",
        "    l4_c2 = self.l4_c2(l4_c1)\n",
        "    l4_c3 = self.l4_c3(l4_c2)\n",
        "    l4_c3 = layers.Add()([l4_c3, l3_o])\n",
        "    l4_o = self.l4_o(l4_c3)\n",
        "    # l4_o = self.bn4(l4_o)\n",
        "\n",
        "    l5_c1 = self.l5_c1(l4_o)\n",
        "    l5_c2 = self.l5_c2(l5_c1)\n",
        "    l5_c3 = self.l5_c3(l5_c2)\n",
        "    l5_c3 = layers.Add()([l5_c3, l4_o])\n",
        "    l5_o = self.l5_o(l5_c3)\n",
        "    # l5_o = self.bn5(l5_o)\n",
        "\n",
        "    l6_i = layers.Concatenate(axis=4)([l5_o, l4_c3])\n",
        "    l6_c1 = self.l6_c1(l6_i)\n",
        "    l6_c2 = self.l6_c2(l6_c1)\n",
        "    l6_c3 = self.l6_c3(l6_c2)\n",
        "    l6_c3 = layers.Add()([l6_c3, l5_o])\n",
        "    l6_o = self.l6_o(l6_c3)\n",
        "    # l6_o = self.bn6(l6_o)\n",
        "\n",
        "    l7_i = layers.Concatenate(axis=4)([l6_o, l3_c3])\n",
        "    l7_c1 = self.l7_c1(l7_i)\n",
        "    l7_c2 = self.l7_c2(l7_c1)\n",
        "    l7_c3 = self.l7_c3(l7_c2)\n",
        "    l7_c3 = layers.Add()([l7_c3, l6_o])\n",
        "    l7_o = self.l7_o(l7_c3)\n",
        "    # l7_o = self.bn7(l7_o)\n",
        "\n",
        "    l8_i = layers.Concatenate(axis=4)([l7_o, l2_c2])\n",
        "    l8_c1 = self.l8_c1(l8_i)\n",
        "    l8_c2 = self.l8_c2(l8_c1)\n",
        "    l8_c2 = layers.Add()([l8_c2, l7_o])\n",
        "    l8_o = self.l8_o(l8_c2)\n",
        "    # l8_o = self.bn8(l8_o)\n",
        "\n",
        "    l9_i = layers.Concatenate(axis=4)([l8_o, l1_c1])\n",
        "    l9_c1 = self.l9_c1(l9_i)\n",
        "    l9_c1 = layers.Add()([l9_c1, l8_o])\n",
        "    l9_o = self.l9_o(l9_c1)\n",
        "    \n",
        "\n",
        "    # return l9_o\n",
        "    return self.l10(l9_o)\n"
      ]
    },
    {
      "cell_type": "code",
      "source": [
        "class VNet_without_skip(Model):\n",
        "  def __init__(self, input_shape, batch_size):\n",
        "    super(VNet_without_skip, self).__init__(name='VNet_without_skip')\n",
        "    self.batch_size = batch_size\n",
        "    self.input_layer = layers.InputLayer(input_shape=(input_shape), batch_size=self.batch_size)\n",
        "    \n",
        "    self.l1_c1 = layers.Conv3D(16, 5, strides=1,padding='same', activation=layers.PReLU(shared_axes=[1,2,3]))\n",
        "    self.l1_o = layers.Conv3D(32, 2, strides=2, activation=layers.PReLU(shared_axes=[1,2,3]))\n",
        "    # self.bn1 = layers.BatchNormalization()\n",
        "    \n",
        "    self.l2_c1 = layers.Conv3D(32, 5, strides=1,padding='same', activation=layers.PReLU(shared_axes=[1,2,3]))\n",
        "    self.l2_c2 = layers.Conv3D(32, 5, strides=1,padding='same', activation=layers.PReLU(shared_axes=[1,2,3]))\n",
        "    self.l2_o = layers.Conv3D(64, 2, strides=2, activation=layers.PReLU(shared_axes=[1,2,3]))\n",
        "    # self.bn2 = layers.BatchNormalization()\n",
        "\n",
        "    self.l3_c1 = layers.Conv3D(64, 5, strides=1,padding='same', activation=layers.PReLU(shared_axes=[1,2,3]))\n",
        "    self.l3_c2 = layers.Conv3D(64, 5, strides=1,padding='same', activation=layers.PReLU(shared_axes=[1,2,3]))\n",
        "    self.l3_c3 = layers.Conv3D(64, 5, strides=1,padding='same', activation=layers.PReLU(shared_axes=[1,2,3]))\n",
        "    self.l3_o = layers.Conv3D(128, 2, strides=2, activation=layers.PReLU(shared_axes=[1,2,3]))\n",
        "    # self.bn3 = layers.BatchNormalization()\n",
        "\n",
        "    self.l4_c1 = layers.Conv3D(128, 5, strides=1,padding='same', activation=layers.PReLU(shared_axes=[1,2,3]))\n",
        "    self.l4_c2 = layers.Conv3D(128, 5, strides=1,padding='same', activation=layers.PReLU(shared_axes=[1,2,3]))\n",
        "    self.l4_c3 = layers.Conv3D(128, 5, strides=1,padding='same', activation=layers.PReLU(shared_axes=[1,2,3]))\n",
        "    self.l4_o = layers.Conv3D(256, 2, strides=2)\n",
        "    # self.bn4 = layers.BatchNormalization()\n",
        "\n",
        "    self.l5_c1 = layers.Conv3D(256, 5, strides=1,padding='same', activation=layers.PReLU(shared_axes=[1,2,3]))\n",
        "    self.l5_c2 = layers.Conv3D(256, 5, strides=1,padding='same', activation=layers.PReLU(shared_axes=[1,2,3]))\n",
        "    self.l5_c3 = layers.Conv3D(256, 5, strides=1,padding='same', activation=layers.PReLU(shared_axes=[1,2,3]))\n",
        "    self.l5_o = layers.Conv3DTranspose(256, 2, strides=2, activation=layers.PReLU(shared_axes=[1,2,3]))\n",
        "    # self.bn5 = layers.BatchNormalization()\n",
        "\n",
        "    self.l6_c1 = layers.Conv3D(256, 5, strides=1,padding='same', activation=layers.PReLU(shared_axes=[1,2,3]))\n",
        "    self.l6_c2 = layers.Conv3D(256, 5, strides=1,padding='same', activation=layers.PReLU(shared_axes=[1,2,3]))\n",
        "    self.l6_c3 = layers.Conv3D(256, 5, strides=1,padding='same', activation=layers.PReLU(shared_axes=[1,2,3]))\n",
        "    self.l6_o = layers.Conv3DTranspose(128, 2, strides=2, activation=layers.PReLU(shared_axes=[1,2,3]))\n",
        "    # self.bn6 = layers.BatchNormalization()\n",
        "\n",
        "    self.l7_c1 = layers.Conv3D(128, 5, strides=1,padding='same', activation=layers.PReLU(shared_axes=[1,2,3]))\n",
        "    self.l7_c2 = layers.Conv3D(128, 5, strides=1,padding='same', activation=layers.PReLU(shared_axes=[1,2,3]))\n",
        "    self.l7_c3 = layers.Conv3D(128, 5, strides=1,padding='same', activation=layers.PReLU(shared_axes=[1,2,3]))\n",
        "    self.l7_o = layers.Conv3DTranspose(64, 2, strides=2, activation=layers.PReLU(shared_axes=[1,2,3]))\n",
        "    # self.bn7 = layers.BatchNormalization()\n",
        "\n",
        "    self.l8_c1 = layers.Conv3D(64, 5, strides=1,padding='same', activation=layers.PReLU(shared_axes=[1,2,3]))\n",
        "    self.l8_c2 = layers.Conv3D(64, 5, strides=1,padding='same', activation=layers.PReLU(shared_axes=[1,2,3]))\n",
        "    self.l8_o = layers.Conv3DTranspose(32, 2, strides=2, activation=layers.PReLU(shared_axes=[1,2,3]))\n",
        "    # self.bn8 = layers.BatchNormalization()\n",
        "\n",
        "    self.l9_c1 = layers.Conv3D(32, 5, strides=1,padding='same', activation=layers.PReLU(shared_axes=[1,2,3]))\n",
        "    self.l9_o = layers.Conv3D(2, 1, strides=1, padding='same', activation=layers.PReLU(shared_axes=[1,2,3]))\n",
        "    self.l10 = layers.Conv3D(1, 1, strides=1, padding='same', activation='sigmoid')\n",
        "      \n",
        "        # self.l10 = layers.Softmax(axis=4)\n",
        "  \n",
        "  def call(self, input_tensor, training = False):\n",
        "\n",
        "    input_tensor = self.input_layer(input_tensor)\n",
        "    l1_c1 = self.l1_c1(input_tensor)\n",
        "    l1_c1 = layers.Add()([l1_c1, input_tensor])\n",
        "    l1_o = self.l1_o(l1_c1)\n",
        "    # l1_o = self.bn1(l1_o)\n",
        "\n",
        "    l2_c1 = self.l2_c1(l1_o)\n",
        "    l2_c2 = self.l2_c2(l2_c1)\n",
        "    l2_c2 = layers.Add()([l2_c2, l1_o])\n",
        "    l2_o = self.l2_o(l2_c2)\n",
        "    # l2_o = self.bn2(l2_o)\n",
        "\n",
        "    l3_c1 = self.l3_c1(l2_o)\n",
        "    l3_c2 = self.l3_c2(l3_c1)\n",
        "    l3_c3 = self.l3_c3(l3_c2)\n",
        "    l3_c3 = layers.Add()([l3_c3, l2_o])\n",
        "    l3_o = self.l3_o(l3_c3)\n",
        "    # l3_o = self.bn3(l3_o)\n",
        "\n",
        "    l4_c1 = self.l4_c1(l3_o)\n",
        "    l4_c2 = self.l4_c2(l4_c1)\n",
        "    l4_c3 = self.l4_c3(l4_c2)\n",
        "    l4_c3 = layers.Add()([l4_c3, l3_o])\n",
        "    l4_o = self.l4_o(l4_c3)\n",
        "    # l4_o = self.bn4(l4_o)\n",
        "\n",
        "    l5_c1 = self.l5_c1(l4_o)\n",
        "    l5_c2 = self.l5_c2(l5_c1)\n",
        "    l5_c3 = self.l5_c3(l5_c2)\n",
        "    l5_c3 = layers.Add()([l5_c3, l4_o])\n",
        "    l5_o = self.l5_o(l5_c3)\n",
        "    # l5_o = self.bn5(l5_o)\n",
        "\n",
        "    l6_i = l5_o\n",
        "    l6_c1 = self.l6_c1(l6_i)\n",
        "    l6_c2 = self.l6_c2(l6_c1)\n",
        "    l6_c3 = self.l6_c3(l6_c2)\n",
        "    l6_c3 = layers.Add()([l6_c3, l5_o])\n",
        "    l6_o = self.l6_o(l6_c3)\n",
        "    # l6_o = self.bn6(l6_o)\n",
        "\n",
        "    l7_i = l6_o\n",
        "    l7_c1 = self.l7_c1(l7_i)\n",
        "    l7_c2 = self.l7_c2(l7_c1)\n",
        "    l7_c3 = self.l7_c3(l7_c2)\n",
        "    l7_c3 = layers.Add()([l7_c3, l6_o])\n",
        "    l7_o = self.l7_o(l7_c3)\n",
        "    # l7_o = self.bn7(l7_o)\n",
        "\n",
        "    l8_i = l7_o\n",
        "    l8_c1 = self.l8_c1(l8_i)\n",
        "    l8_c2 = self.l8_c2(l8_c1)\n",
        "    l8_c2 = layers.Add()([l8_c2, l7_o])\n",
        "    l8_o = self.l8_o(l8_c2)\n",
        "    # l8_o = self.bn8(l8_o)\n",
        "\n",
        "    l9_i = l8_o\n",
        "    l9_c1 = self.l9_c1(l9_i)\n",
        "    l9_c1 = layers.Add()([l9_c1, l8_o])\n",
        "    l9_o = self.l9_o(l9_c1)\n",
        "    \n",
        "\n",
        "    # return l9_o\n",
        "    return self.l10(l9_o)\n"
      ],
      "metadata": {
        "id": "9wwZNBB0FALh"
      },
      "execution_count": null,
      "outputs": []
    },
    {
      "cell_type": "code",
      "source": [
        "class VNet_extra_block(Model):\n",
        "  def __init__(self, input_shape, batch_size):\n",
        "    super(VNet_extra_block, self).__init__(name='VNet_extra_block')\n",
        "    self.batch_size = batch_size\n",
        "    self.input_layer = layers.InputLayer(input_shape=(input_shape), batch_size=self.batch_size)\n",
        "    \n",
        "    self.l1_c1 = layers.Conv3D(16, 5, strides=1,padding='same', activation=layers.PReLU(shared_axes=[1,2,3]))\n",
        "    self.l1_o = layers.Conv3D(32, 2, strides=2, activation=layers.PReLU(shared_axes=[1,2,3]))\n",
        "    # self.bn1 = layers.BatchNormalization()\n",
        "    \n",
        "    self.l2_c1 = layers.Conv3D(32, 5, strides=1,padding='same', activation=layers.PReLU(shared_axes=[1,2,3]))\n",
        "    self.l2_c2 = layers.Conv3D(32, 5, strides=1,padding='same', activation=layers.PReLU(shared_axes=[1,2,3]))\n",
        "    self.l2_o = layers.Conv3D(64, 2, strides=2, activation=layers.PReLU(shared_axes=[1,2,3]))\n",
        "    # self.bn2 = layers.BatchNormalization()\n",
        "\n",
        "    self.l3_c1 = layers.Conv3D(64, 5, strides=1,padding='same', activation=layers.PReLU(shared_axes=[1,2,3]))\n",
        "    self.l3_c2 = layers.Conv3D(64, 5, strides=1,padding='same', activation=layers.PReLU(shared_axes=[1,2,3]))\n",
        "    self.l3_c3 = layers.Conv3D(64, 5, strides=1,padding='same', activation=layers.PReLU(shared_axes=[1,2,3]))\n",
        "    self.l3_o = layers.Conv3D(128, 2, strides=2, activation=layers.PReLU(shared_axes=[1,2,3]))\n",
        "    # self.bn3 = layers.BatchNormalization()\n",
        "\n",
        "    self.l4_c1 = layers.Conv3D(128, 5, strides=1,padding='same', activation=layers.PReLU(shared_axes=[1,2,3]))\n",
        "    self.l4_c2 = layers.Conv3D(128, 5, strides=1,padding='same', activation=layers.PReLU(shared_axes=[1,2,3]))\n",
        "    self.l4_c3 = layers.Conv3D(128, 5, strides=1,padding='same', activation=layers.PReLU(shared_axes=[1,2,3]))\n",
        "    self.l4_o = layers.Conv3D(256, 2, strides=2)\n",
        "    # self.bn4 = layers.BatchNormalization()\n",
        "\n",
        "    self.e1_c1 = layers.Conv3D(256, 5, strides=1,padding='same', activation=layers.PReLU(shared_axes=[1,2,3]))\n",
        "    self.e1_c2 = layers.Conv3D(256, 5, strides=1,padding='same', activation=layers.PReLU(shared_axes=[1,2,3]))\n",
        "    self.e1_c3 = layers.Conv3D(256, 5, strides=1,padding='same', activation=layers.PReLU(shared_axes=[1,2,3]))\n",
        "    self.e1_o = layers.Conv3D(256, 2, strides=2)\n",
        "\n",
        "    self.l5_c1 = layers.Conv3D(256, 5, strides=1,padding='same', activation=layers.PReLU(shared_axes=[1,2,3]))\n",
        "    self.l5_c2 = layers.Conv3D(256, 5, strides=1,padding='same', activation=layers.PReLU(shared_axes=[1,2,3]))\n",
        "    self.l5_c3 = layers.Conv3D(256, 5, strides=1,padding='same', activation=layers.PReLU(shared_axes=[1,2,3]))\n",
        "    self.l5_o = layers.Conv3DTranspose(256, 2, strides=2, activation=layers.PReLU(shared_axes=[1,2,3]))\n",
        "    # self.bn5 = layers.BatchNormalization()\n",
        "\n",
        "    self.e2_c1 = layers.Conv3D(256, 5, strides=1,padding='same', activation=layers.PReLU(shared_axes=[1,2,3]))\n",
        "    self.e2_c2 = layers.Conv3D(256, 5, strides=1,padding='same', activation=layers.PReLU(shared_axes=[1,2,3]))\n",
        "    self.e2_c3 = layers.Conv3D(256, 5, strides=1,padding='same', activation=layers.PReLU(shared_axes=[1,2,3]))\n",
        "    self.e2_o = layers.Conv3DTranspose(256, 2, strides=2, activation=layers.PReLU(shared_axes=[1,2,3]))\n",
        "\n",
        "    self.l6_c1 = layers.Conv3D(256, 5, strides=1,padding='same', activation=layers.PReLU(shared_axes=[1,2,3]))\n",
        "    self.l6_c2 = layers.Conv3D(256, 5, strides=1,padding='same', activation=layers.PReLU(shared_axes=[1,2,3]))\n",
        "    self.l6_c3 = layers.Conv3D(256, 5, strides=1,padding='same', activation=layers.PReLU(shared_axes=[1,2,3]))\n",
        "    self.l6_o = layers.Conv3DTranspose(128, 2, strides=2, activation=layers.PReLU(shared_axes=[1,2,3]))\n",
        "    # self.bn6 = layers.BatchNormalization()\n",
        "\n",
        "    self.l7_c1 = layers.Conv3D(128, 5, strides=1,padding='same', activation=layers.PReLU(shared_axes=[1,2,3]))\n",
        "    self.l7_c2 = layers.Conv3D(128, 5, strides=1,padding='same', activation=layers.PReLU(shared_axes=[1,2,3]))\n",
        "    self.l7_c3 = layers.Conv3D(128, 5, strides=1,padding='same', activation=layers.PReLU(shared_axes=[1,2,3]))\n",
        "    self.l7_o = layers.Conv3DTranspose(64, 2, strides=2, activation=layers.PReLU(shared_axes=[1,2,3]))\n",
        "    # self.bn7 = layers.BatchNormalization()\n",
        "\n",
        "    self.l8_c1 = layers.Conv3D(64, 5, strides=1,padding='same', activation=layers.PReLU(shared_axes=[1,2,3]))\n",
        "    self.l8_c2 = layers.Conv3D(64, 5, strides=1,padding='same', activation=layers.PReLU(shared_axes=[1,2,3]))\n",
        "    self.l8_o = layers.Conv3DTranspose(32, 2, strides=2, activation=layers.PReLU(shared_axes=[1,2,3]))\n",
        "    # self.bn8 = layers.BatchNormalization()\n",
        "\n",
        "    self.l9_c1 = layers.Conv3D(32, 5, strides=1,padding='same', activation=layers.PReLU(shared_axes=[1,2,3]))\n",
        "    self.l9_o = layers.Conv3D(2, 1, strides=1, padding='same', activation=layers.PReLU(shared_axes=[1,2,3]))\n",
        "    self.l10 = layers.Conv3D(1, 1, strides=1, padding='same', activation='sigmoid')\n",
        "      \n",
        "        # self.l10 = layers.Softmax(axis=4)\n",
        "  \n",
        "  def call(self, input_tensor, training = False):\n",
        "\n",
        "    input_tensor = self.input_layer(input_tensor)\n",
        "    l1_c1 = self.l1_c1(input_tensor)\n",
        "    l1_c1 = layers.Add()([l1_c1, input_tensor])\n",
        "    l1_o = self.l1_o(l1_c1)\n",
        "    # l1_o = self.bn1(l1_o)\n",
        "\n",
        "    l2_c1 = self.l2_c1(l1_o)\n",
        "    l2_c2 = self.l2_c2(l2_c1)\n",
        "    l2_c2 = layers.Add()([l2_c2, l1_o])\n",
        "    l2_o = self.l2_o(l2_c2)\n",
        "    # l2_o = self.bn2(l2_o)\n",
        "\n",
        "    l3_c1 = self.l3_c1(l2_o)\n",
        "    l3_c2 = self.l3_c2(l3_c1)\n",
        "    l3_c3 = self.l3_c3(l3_c2)\n",
        "    l3_c3 = layers.Add()([l3_c3, l2_o])\n",
        "    l3_o = self.l3_o(l3_c3)\n",
        "    # l3_o = self.bn3(l3_o)\n",
        "\n",
        "    l4_c1 = self.l4_c1(l3_o)\n",
        "    l4_c2 = self.l4_c2(l4_c1)\n",
        "    l4_c3 = self.l4_c3(l4_c2)\n",
        "    l4_c3 = layers.Add()([l4_c3, l3_o])\n",
        "    l4_o = self.l4_o(l4_c3)\n",
        "    # l4_o = self.bn4(l4_o)\n",
        "\n",
        "    e1_c1 = self.e1_c1(l4_o)\n",
        "    e1_c2 = self.e1_c2(e1_c1)\n",
        "    e1_c3 = self.e1_c3(e1_c2)\n",
        "    e1_c3 = layers.Add()([e1_c3, l4_o])\n",
        "    e1_o = self.e1_o(e1_c3)\n",
        "\n",
        "    l5_c1 = self.l5_c1(e1_o)\n",
        "    l5_c2 = self.l5_c2(l5_c1)\n",
        "    l5_c3 = self.l5_c3(l5_c2)\n",
        "    l5_c3 = layers.Add()([l5_c3, e1_o])\n",
        "    l5_o = self.l5_o(l5_c3)\n",
        "    # l5_o = self.bn5(l5_o)\n",
        "\n",
        "    e2_i = layers.Concatenate(axis=4)([l5_o, e1_c3])\n",
        "    e2_c1 = self.e2_c1(e2_i)\n",
        "    e2_c2 = self.e2_c2(e2_c1)\n",
        "    e2_c3 = self.e2_c3(e2_c2)\n",
        "    e2_c3 = layers.Add()([e2_c3, l5_o])\n",
        "    e2_o = self.e2_o(e2_c3)\n",
        "\n",
        "    l6_i = layers.Concatenate(axis=4)([e2_o, l4_c3])\n",
        "    l6_c1 = self.l6_c1(l6_i)\n",
        "    l6_c2 = self.l6_c2(l6_c1)\n",
        "    l6_c3 = self.l6_c3(l6_c2)\n",
        "    l6_c3 = layers.Add()([l6_c3, e2_o])\n",
        "    l6_o = self.l6_o(l6_c3)\n",
        "    # l6_o = self.bn6(l6_o)\n",
        "\n",
        "    l7_i = layers.Concatenate(axis=4)([l6_o, l3_c3])\n",
        "    l7_c1 = self.l7_c1(l7_i)\n",
        "    l7_c2 = self.l7_c2(l7_c1)\n",
        "    l7_c3 = self.l7_c3(l7_c2)\n",
        "    l7_c3 = layers.Add()([l7_c3, l6_o])\n",
        "    l7_o = self.l7_o(l7_c3)\n",
        "    # l7_o = self.bn7(l7_o)\n",
        "\n",
        "    l8_i = layers.Concatenate(axis=4)([l7_o, l2_c2])\n",
        "    l8_c1 = self.l8_c1(l8_i)\n",
        "    l8_c2 = self.l8_c2(l8_c1)\n",
        "    l8_c2 = layers.Add()([l8_c2, l7_o])\n",
        "    l8_o = self.l8_o(l8_c2)\n",
        "    # l8_o = self.bn8(l8_o)\n",
        "\n",
        "    l9_i = layers.Concatenate(axis=4)([l8_o, l1_c1])\n",
        "    l9_c1 = self.l9_c1(l9_i)\n",
        "    l9_c1 = layers.Add()([l9_c1, l8_o])\n",
        "    l9_o = self.l9_o(l9_c1)\n",
        "    \n",
        "\n",
        "    # return l9_o\n",
        "    return self.l10(l9_o)\n"
      ],
      "metadata": {
        "id": "eUdkpiTrFRPO"
      },
      "execution_count": null,
      "outputs": []
    },
    {
      "cell_type": "code",
      "execution_count": null,
      "metadata": {
        "id": "WRjnFghoOoQ7"
      },
      "outputs": [],
      "source": [
        "# x = np.random.rand(1,128,128,64,1)\n",
        "# x = tf.constant(x)\n",
        "# mod = VNet_with_extra_layer(input_shape=(128,128,64,1,), batch_size=1)\n",
        "# mod.compile()\n",
        "\n",
        "# p = mod.predict(x)"
      ]
    },
    {
      "cell_type": "markdown",
      "metadata": {
        "id": "uuzuIktaifks"
      },
      "source": [
        "# Data Pipeline:"
      ]
    },
    {
      "cell_type": "markdown",
      "metadata": {
        "id": "ueu_jeLeNfs_"
      },
      "source": [
        "CustomDataset class subclassing Tensorflow Dataset"
      ]
    },
    {
      "cell_type": "code",
      "execution_count": null,
      "metadata": {
        "id": "24Q1c6imQ0Fy"
      },
      "outputs": [],
      "source": [
        "# Resizes raw images\n",
        "def getNumpyData(params,dat,method):\n",
        "\n",
        "  ret = np.zeros([params['VolSize'][0], params['VolSize'][1], params['VolSize'][2]], dtype=np.float32)\n",
        "\n",
        "  img=dat\n",
        "\n",
        "  #we rotate the image according to its transformation using the direction and according to the final spacing we want\n",
        "  factor = np.asarray(img.GetSpacing()) / [params['dstRes'][0], params['dstRes'][1],\n",
        "                                            params['dstRes'][2]]\n",
        "\n",
        "  factorSize = np.asarray(img.GetSize() * factor, dtype=float)\n",
        "\n",
        "  newSize = np.max([factorSize, params['VolSize']], axis=0)\n",
        "\n",
        "  newSize = newSize.astype(dtype=int).tolist()\n",
        "  \n",
        "  T=sitk.AffineTransform(3)\n",
        "  T.SetMatrix(img.GetDirection())\n",
        "\n",
        "  resampler = sitk.ResampleImageFilter()\n",
        "  resampler.SetReferenceImage(img)\n",
        "  resampler.SetOutputSpacing([params['dstRes'][0], params['dstRes'][1], params['dstRes'][2]])\n",
        "  resampler.SetSize(newSize)\n",
        "  resampler.SetInterpolator(method)\n",
        "\n",
        "  if params['normDir']:\n",
        "    resampler.SetTransform(T.GetInverse())\n",
        "\n",
        "  imgResampled = resampler.Execute(img)\n",
        "\n",
        "\n",
        "  imgCentroid = np.asarray(newSize, dtype=float) / 2.0\n",
        "\n",
        "  imgStartPx = (imgCentroid - params['VolSize'] / 2.0).astype(dtype=int).tolist()\n",
        "\n",
        "  regionExtractor = sitk.RegionOfInterestImageFilter()\n",
        "  regionExtractor.SetSize(list(params['VolSize'].astype(dtype=int).tolist()))\n",
        "  regionExtractor.SetIndex(imgStartPx)\n",
        "\n",
        "  imgResampledCropped = regionExtractor.Execute(imgResampled)\n",
        "\n",
        "  ret = np.transpose(sitk.GetArrayFromImage(imgResampledCropped).astype(dtype=float), [2, 1, 0])\n",
        "\n",
        "  return ret"
      ]
    },
    {
      "cell_type": "code",
      "execution_count": null,
      "metadata": {
        "id": "-UNyT4NJVu_v"
      },
      "outputs": [],
      "source": [
        "# convert axis zyx to xyz\n",
        "def get_xyz(img):\n",
        "  print(img.shape)\n",
        "  z,y,x , t = img.shape\n",
        "  rimg = np.empty((x,y,z))\n",
        "  for ix in range(x):\n",
        "    for iy in range(y):\n",
        "      for iz in range(z):\n",
        "        rimg[x,y,z,0] = img[z,y,x,0]\n",
        "  return rimg"
      ]
    },
    {
      "cell_type": "code",
      "execution_count": null,
      "metadata": {
        "id": "ZiZT2Yx3ijLv"
      },
      "outputs": [],
      "source": [
        "class CustomDataset:\n",
        "\n",
        "    def __init__(self, dir:str, out_shape = (128,128,64), image_channels = 1, mask_channels = 1, batch_size= 10):\n",
        "      self.dir = dir\n",
        "      self.image_channels = image_channels\n",
        "      self.batch_size = batch_size\n",
        "      self.mask_channels = mask_channels\n",
        "      self.params = dict()\n",
        "      self.params['dstRes'] = np.asarray([1,1,1.5],dtype=float)\n",
        "      self.params['VolSize'] = np.asarray([*out_shape],dtype=int)\n",
        "      self.params['normDir'] = False\n",
        "\n",
        "    # loads data\n",
        "    def load_data(self):\n",
        "      images =  [f for f in os.listdir(self.dir) if 'segmentation' not in f and 'raw' not in f] \n",
        "      masks = [f for f in os.listdir(self.dir) if 'segmentation' in f and 'raw' not in f]\n",
        "      images = sorted(images)\n",
        "      masks = sorted(masks)\n",
        "      return images , masks\n",
        "    \n",
        "    def process_img(self, filepaths):\n",
        "      images = []\n",
        "      # cwd = os.getcwd()\n",
        "      # os.chdir(self.dir)\n",
        "      for filepath in filepaths:\n",
        "        rescalFilt=sitk.RescaleIntensityImageFilter()\n",
        "        rescalFilt.SetOutputMaximum(1)\n",
        "        rescalFilt.SetOutputMinimum(0)\n",
        "        img = rescalFilt.Execute(sitk.Cast(sitk.ReadImage(self.dir+'/'+filepath),sitk.sitkFloat32))\n",
        "        img = getNumpyData(self.params, img, sitk.sitkLinear)\n",
        "        img = img.reshape(*img.shape, 1)\n",
        "        img = (img-img.min()) / (img.max() - img.min())\n",
        "        images.append(img)\n",
        "      # os.chdir(cwd)\n",
        "      images = np.array(images, dtype= np.float32)\n",
        "\n",
        "      images =  tf.convert_to_tensor(images)\n",
        "      return images\n",
        "\n",
        "    def process_mask(self, maskpaths):\n",
        "      # cwd = os.getcwd()\n",
        "      # os.chdir(self.dir)\n",
        "      masks = []\n",
        "      for maskpath in maskpaths:\n",
        "        mask = sitk.Cast(sitk.ReadImage(self.dir+'/'+maskpath),sitk.sitkFloat32)\n",
        "        mask = getNumpyData(self.params, mask, sitk.sitkLinear)\n",
        "        mask = (mask > 0.5)*1\n",
        "        mask = (mask-mask.min()) / (mask.max() - mask.min())\n",
        "        mask = mask.reshape(*mask.shape, 1)\n",
        "        masks.append(mask)\n",
        "      # os.chdir(cwd)\n",
        "      masks = np.array(masks, dtype= np.float32)\n",
        "      masks =  tf.convert_to_tensor(masks)\n",
        "      return masks  \n",
        "\n",
        "    # Call this to get the data\n",
        "    def get_dataset(self):\n",
        "      x,y = self.load_data()\n",
        "      print(f\"Total images:- {len(x)}, masks:- {len(y)}\")\n",
        "      x,y = self.process_img(x), self.process_mask(y)\n",
        "      dataset = tf.data.Dataset.from_tensor_slices((x,y))\n",
        "      dataset = dataset.shuffle(buffer_size=10)\n",
        "      dataset = dataset.batch(batch_size=self.batch_size)\n",
        "      return  dataset\n"
      ]
    },
    {
      "cell_type": "code",
      "execution_count": null,
      "metadata": {
        "id": "ttamry3gWPU-"
      },
      "outputs": [],
      "source": [
        "# show animation \n",
        "def ct_animation(img, path, isMask = False):\n",
        " \n",
        "  # rc('animation', html='jshtml')\n",
        "  fig = plt.figure()\n",
        "  ip = np.random.rand(img.shape[0], img.shape[1])\n",
        "  ip = (ip-ip.min()) / (ip.max() - ip.min())\n",
        "  im = plt.imshow(ip, cmap = 'gray')\n",
        "\n",
        "  def animate(i):\n",
        "      im.set_array(img[:,:,i])\n",
        "      return [im]\n",
        "\n",
        "  anim = FuncAnimation(fig, animate, interval=50, blit=False, frames=img.shape[2], repeat=False)\n",
        "  anim.save(f'{path}.mp4', fps=20, extra_args=['-vcodec', 'libx264'])\n",
        "  # plt.close()\n",
        "  plt.show()\n",
        "  return anim"
      ]
    },
    {
      "cell_type": "code",
      "execution_count": null,
      "metadata": {
        "id": "-jmFXPDZUK3j"
      },
      "outputs": [],
      "source": [
        "def plot_images(y):\n",
        "  fig,ax = plt.subplots(8,8, figsize = (16,16))\n",
        "  r,c = 0,0\n",
        "  for i in range(64):\n",
        "    ax[r,c].imshow(y[:,:,i], cmap = 'gray')\n",
        "    c += 1\n",
        "    if c == 8:\n",
        "      c = 0\n",
        "      r += 1\n",
        "  plt.show()"
      ]
    },
    {
      "cell_type": "code",
      "execution_count": null,
      "metadata": {
        "id": "w1SM4HSBmoNa",
        "colab": {
          "base_uri": "https://localhost:8080/"
        },
        "outputId": "4946ab07-e6d4-46d5-e3bb-ef165da39161"
      },
      "outputs": [
        {
          "output_type": "stream",
          "name": "stdout",
          "text": [
            "Total images:- 50, masks:- 50\n"
          ]
        }
      ],
      "source": [
        "train = CustomDataset('/content/drive/MyDrive/nnfl/dataset/train', batch_size=BATCH_SIZE).get_dataset()"
      ]
    },
    {
      "cell_type": "code",
      "execution_count": null,
      "metadata": {
        "colab": {
          "base_uri": "https://localhost:8080/"
        },
        "id": "3FN1_S0AYC3x",
        "outputId": "bb09fcee-f0c5-4577-9435-3ccbf3e8b464"
      },
      "outputs": [
        {
          "output_type": "stream",
          "name": "stdout",
          "text": [
            "(2, 128, 128, 64, 1) (2, 128, 128, 64, 1)\n",
            "(128, 128, 64) (128, 128, 64)\n"
          ]
        }
      ],
      "source": [
        "for x,y in train.take(1):\n",
        "  print(x.shape,y.shape)\n",
        "  x = x.numpy()\n",
        "  x = x[0]\n",
        "  x = x.reshape(128,128,64)\n",
        "  y = y.numpy()\n",
        "  y = y[0]\n",
        "  y = y.reshape(128,128,64)\n",
        "  print(x.shape,y.shape)"
      ]
    },
    {
      "cell_type": "code",
      "execution_count": null,
      "metadata": {
        "id": "PeJDrHy9OdxJ"
      },
      "outputs": [],
      "source": [
        "# ct_animation(x, \"x\")"
      ]
    },
    {
      "cell_type": "code",
      "execution_count": null,
      "metadata": {
        "id": "mRbLO_uIPnbb"
      },
      "outputs": [],
      "source": [
        "# ct_animation(y,\"y\", True)"
      ]
    },
    {
      "cell_type": "code",
      "execution_count": null,
      "metadata": {
        "id": "S_lABuFKn8df"
      },
      "outputs": [],
      "source": [
        "# print(\"Image:\")\n",
        "# plot_images(x)\n",
        "# print(\"Mask:\")\n",
        "# plot_images(y)"
      ]
    },
    {
      "cell_type": "markdown",
      "metadata": {
        "id": "8ZSYaTS8jcjR"
      },
      "source": [
        "# Train Pipeline: "
      ]
    },
    {
      "cell_type": "code",
      "source": [
        "cmodels = [VNet, VNet_without_skip, VNet_extra_block]\n",
        "closses = [DiceLoss, L1SobelLoss, L1LaplacianLoss]\n",
        "\n",
        "cmodel_text = ['VNET', 'VNET_WITHOUT_SKIP', 'VNET_WITH_EXTRA_LAYER']\n",
        "closs_text = ['DICE_LOSS', 'L1_SOBEL', 'L1_LAPLACIAN']"
      ],
      "metadata": {
        "id": "DEXQJJkXi5Kd"
      },
      "execution_count": null,
      "outputs": []
    },
    {
      "cell_type": "code",
      "source": [
        "train = CustomDataset('/content/drive/MyDrive/nnfl/dataset/train', batch_size=BATCH_SIZE).get_dataset()"
      ],
      "metadata": {
        "colab": {
          "base_uri": "https://localhost:8080/"
        },
        "id": "tEPcBqXTUcLA",
        "outputId": "a87f9a9f-5025-4494-9dc7-0c4054676728"
      },
      "execution_count": null,
      "outputs": [
        {
          "output_type": "stream",
          "name": "stdout",
          "text": [
            "Total images:- 50, masks:- 50\n"
          ]
        }
      ]
    },
    {
      "cell_type": "code",
      "execution_count": null,
      "metadata": {
        "id": "41gtZvO4sETE",
        "colab": {
          "base_uri": "https://localhost:8080/"
        },
        "outputId": "8283eb5b-801f-4d4e-fb9d-5c7e2f2435d0"
      },
      "outputs": [
        {
          "output_type": "stream",
          "name": "stdout",
          "text": [
            "Epoch 1/5\n",
            "25/25 - 91s - loss: 0.8819 - accuracy: 0.7431 - 91s/epoch - 4s/step\n",
            "Epoch 2/5\n",
            "25/25 - 67s - loss: 0.8803 - accuracy: 0.9558 - 67s/epoch - 3s/step\n",
            "Epoch 3/5\n",
            "25/25 - 69s - loss: 0.8724 - accuracy: 0.9416 - 69s/epoch - 3s/step\n",
            "Epoch 4/5\n",
            "25/25 - 70s - loss: 0.7744 - accuracy: 0.9132 - 70s/epoch - 3s/step\n",
            "Epoch 5/5\n",
            "25/25 - 70s - loss: 0.7380 - accuracy: 0.8655 - 70s/epoch - 3s/step\n"
          ]
        },
        {
          "output_type": "execute_result",
          "data": {
            "text/plain": [
              "<keras.callbacks.History at 0x7fa1dd1e6fa0>"
            ]
          },
          "metadata": {},
          "execution_count": 37
        }
      ],
      "source": [
        "# for mi, mode in zip(cmodel_text, cmodels):\n",
        "#   for li, l in zip(closs_text, closses):\n",
        "# mi = \n",
        "mod = VNet(input_shape=(128,128,64,1,), batch_size = BATCH_SIZE)\n",
        "with open(f'logs/VNET_DICE_LOSS.csv', 'w+'):\n",
        "  ...\n",
        "csv_logger = tf.keras.callbacks.CSVLogger(f'logs/VNET_DICE_LOSS.csv')\n",
        "optimizer = Adam(1e-5)\n",
        "mod.compile(optimizer=optimizer, loss= DiceLoss(), metrics=['accuracy'],)\n",
        "mod.fit(train, epochs=EPOCHS, batch_size=BATCH_SIZE, callbacks=[csv_logger],verbose=2)"
      ]
    },
    {
      "cell_type": "markdown",
      "source": [
        "# Evaluation\n"
      ],
      "metadata": {
        "id": "EdwvJIEaxklN"
      }
    },
    {
      "cell_type": "code",
      "source": [
        "cmodel_text\n",
        "closs_text"
      ],
      "metadata": {
        "id": "yJNzqdMNxmsu"
      },
      "execution_count": null,
      "outputs": []
    },
    {
      "cell_type": "code",
      "source": [
        "for m in cmodel_text:\n",
        "  plt.figure()\n",
        "  plt.title(f\"Accuracies by model {m}\")\n",
        "  for l in closs_text:\n",
        "    df = pd.read_csv(f'logs/{m}_{l}.csv')\n",
        "    plt.plot(df['epoch'],df['accuracy'])\n",
        "  plt.xlabel('Epoch')\n",
        "  plt.ylabel(\"Accuracy\")\n",
        "  plt.legend(closs_text)\n",
        "  plt.show()"
      ],
      "metadata": {
        "colab": {
          "base_uri": "https://localhost:8080/",
          "height": 851
        },
        "id": "t93N4mUdxsqO",
        "outputId": "10190283-45e8-4f61-ae81-281922d26b43"
      },
      "execution_count": null,
      "outputs": [
        {
          "output_type": "display_data",
          "data": {
            "text/plain": [
              "<Figure size 432x288 with 1 Axes>"
            ],
            "image/png": "[encoded data removed]"
          },
          "metadata": {
            "needs_background": "light"
          }
        },
        {
          "output_type": "display_data",
          "data": {
            "text/plain": [
              "<Figure size 432x288 with 1 Axes>"
            ],
            "image/png": "[encoded data removed]"
          },
          "metadata": {
            "needs_background": "light"
          }
        },
        {
          "output_type": "display_data",
          "data": {
            "text/plain": [
              "<Figure size 432x288 with 1 Axes>"
            ],
            "image/png": "[encoded data removed]"
          },
          "metadata": {
            "needs_background": "light"
          }
        }
      ]
    },
    {
      "cell_type": "code",
      "source": [
        "for m in cmodel_text:\n",
        "  plt.figure()\n",
        "  plt.title(f\"Losses by model {m}\")\n",
        "  for l in closs_text:\n",
        "    df = pd.read_csv(f'logs/{m}_{l}.csv')\n",
        "    plt.plot(df['epoch'],df['loss'])\n",
        "  plt.xlabel('Epoch')\n",
        "  plt.ylabel(\"Loss\")\n",
        "  plt.legend(closs_text)\n",
        "  plt.show()"
      ],
      "metadata": {
        "colab": {
          "base_uri": "https://localhost:8080/",
          "height": 851
        },
        "id": "JWPihHRtyizu",
        "outputId": "aa4ea8fd-902d-4d88-dce4-af35004a3a6b"
      },
      "execution_count": null,
      "outputs": [
        {
          "output_type": "display_data",
          "data": {
            "text/plain": [
              "<Figure size 432x288 with 1 Axes>"
            ],
            "image/png": "[encoded data removed]"
          },
          "metadata": {
            "needs_background": "light"
          }
        },
        {
          "output_type": "display_data",
          "data": {
            "text/plain": [
              "<Figure size 432x288 with 1 Axes>"
            ],
            "image/png": "[encoded data removed]"
          },
          "metadata": {
            "needs_background": "light"
          }
        },
        {
          "output_type": "display_data",
          "data": {
            "text/plain": [
              "<Figure size 432x288 with 1 Axes>"
            ],
            "image/png": "[encoded data removed]"
          },
          "metadata": {
            "needs_background": "light"
          }
        }
      ]
    },
    {
      "cell_type": "code",
      "source": [],
      "metadata": {
        "id": "JV9XkSz-zCU8"
      },
      "execution_count": null,
      "outputs": []
    }
  ],
  "metadata": {
    "accelerator": "GPU",
    "colab": {
      "collapsed_sections": [
        "fijhCseWoQYk",
        "RaD1o0ucUItZ",
        "NBFRt8HeUO-t",
        "LUGffvF0UShc",
        "uuzuIktaifks"
      ],
      "provenance": []
    },
    "gpuClass": "standard",
    "kernelspec": {
      "display_name": "Python 3.9.12 ('isic')",
      "language": "python",
      "name": "python3"
    },
    "language_info": {
      "codemirror_mode": {
        "name": "ipython",
        "version": 3
      },
      "file_extension": ".py",
      "mimetype": "text/x-python",
      "name": "python",
      "nbconvert_exporter": "python",
      "pygments_lexer": "ipython3",
      "version": "3.9.12"
    },
    "vscode": {
      "interpreter": {
        "hash": "2ed40115b9311c990e0db03d45bc5fce15d49910c366a778b1744ea7c53758dc"
      }
    }
  },
  "nbformat": 4,
  "nbformat_minor": 0
}